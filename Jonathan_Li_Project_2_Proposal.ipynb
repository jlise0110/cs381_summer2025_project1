{
  "nbformat": 4,
  "nbformat_minor": 0,
  "metadata": {
    "colab": {
      "provenance": []
    },
    "kernelspec": {
      "name": "python3",
      "display_name": "Python 3"
    },
    "language_info": {
      "name": "python"
    }
  },
  "cells": [
    {
      "cell_type": "markdown",
      "source": [
        "## Introduction:\n",
        "\n",
        "#### Context:\n",
        "This project will utilize a Spotify dataset containing popular artists/bands and their songs. There are some metrics to determine how well the songs perform, such as Liveliness, Danceability, Energy, and so forth.\n",
        "\n",
        "#### Motivation:\n",
        "The motivation behind this project is to be able to accurately predict which parameters of features would belong to which artist/band.\n",
        "\n",
        "By analyzing the data, it will provide insight to whether or not certain features contributes more towards certain classes (artists/bands).\n",
        "\n",
        "#### Data Source:\n",
        "\n",
        "As stated previously, the database will be sourced from Spotify, provided by Gigasheet:\n",
        "\n",
        "https://www.gigasheet.com/sample-data/spotify-dataset\n",
        "\n",
        "Data will be collected by using the pandas library, and will be converted to a dataframe for EDA.\n",
        "\n",
        "## Research Questions:\n",
        "\n",
        "\n",
        "1.   Which features in the data have the most impact in determining/predicting the artist/band?\n",
        "2.   Are there certain features that are more prominent for certain artists/bands?\n",
        "\n",
        "\n",
        "## Approach:\n",
        "\n",
        "*   Data turned into dataframe with pandas library.\n",
        "*   EDA to evaluate significance of features.\n",
        "*   Feature engineering and data cleanup.\n",
        "*   Using SMOTE if needed to fix data imbalance.\n",
        "*   Use Logistic Regression and KNN models.\n",
        "*   Use Bayesian ridge and Lasso models.\n",
        "*   Use Random Forest Regressor model + Bagging method. Use GradientBoostingRegressor + Gradient Boost method.\n",
        "*   Compare metrics/R^2 score of all models and pick the best one.\n",
        "*   Answer research questions by showing results of the chosen model and EDA.\n"
      ],
      "metadata": {
        "id": "RLtBw25aL2t7"
      }
    }
  ]
}